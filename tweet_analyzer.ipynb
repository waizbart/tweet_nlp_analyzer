{
 "cells": [
  {
   "cell_type": "code",
   "execution_count": 1,
   "metadata": {},
   "outputs": [],
   "source": [
    "import requests\n",
    "from bs4 import BeautifulSoup\n",
    "\n",
    "def get_tweet(url):\n",
    "    headers = {\n",
    "        'User-Agent': 'Twitterbot'\n",
    "    }\t\n",
    "    response = requests.get(url, headers=headers)\n",
    "    if response.status_code == 200:\n",
    "        soup = BeautifulSoup(response.text, 'html.parser')\n",
    "        tweet_text = soup.find('meta', attrs={'property': 'og:description'}).get('content')\n",
    "        if tweet_text:\n",
    "            return tweet_text\n",
    "        else:\n",
    "            raise Exception('Error: Could not find tweet text')\n",
    "    else:\n",
    "        raise Exception('Error: Status code', response.status_code)"
   ]
  },
  {
   "cell_type": "code",
   "execution_count": 29,
   "metadata": {},
   "outputs": [],
   "source": [
    "import tensorflow as tf\n",
    "from tensorflow.keras.preprocessing.text import Tokenizer\n",
    "from tensorflow.keras.preprocessing.sequence import pad_sequences\n",
    "import pickle\n",
    "\n",
    "sarcasm_model = tf.keras.models.load_model('models/sarcasm/v2/v2.h5')\n",
    "positivity_model = tf.keras.models.load_model('models/positivity/v2/v2.h5')\n",
    "\n",
    "sarcasm_tokenizer_path = 'models/sarcasm/tokenizer.pickle'\n",
    "positivity_tokenizer_path = 'models/positivity/tokenizer.pickle'\n",
    "\n",
    "with open(sarcasm_tokenizer_path, 'rb') as handle:\n",
    "    sarcasm_tokenizer = pickle.load(handle)\n",
    "\n",
    "with open(positivity_tokenizer_path, 'rb') as handle:\n",
    "    positivity_tokenizer = pickle.load(handle)\n",
    "    \n",
    "def predict_sarcasm(tweet):\n",
    "    tweet = [tweet]\n",
    "    tweet = sarcasm_tokenizer.texts_to_sequences(tweet)\n",
    "    tweet = pad_sequences(tweet, maxlen=120, padding='post')\n",
    "    prediction = sarcasm_model.predict(tweet)\n",
    "    return prediction\n",
    "    \n",
    "def predict_positivity(tweet):\n",
    "    tweet = [tweet]\n",
    "    tweet = positivity_tokenizer.texts_to_sequences(tweet)\n",
    "    tweet = pad_sequences(tweet, maxlen=120, padding='post')\n",
    "    prediction = positivity_model.predict(tweet)\n",
    "    return prediction\n",
    "\n",
    "    "
   ]
  },
  {
   "cell_type": "code",
   "execution_count": 36,
   "metadata": {},
   "outputs": [
    {
     "name": "stdout",
     "output_type": "stream",
     "text": [
      "1/1 [==============================] - 0s 15ms/step\n",
      "1/1 [==============================] - 0s 15ms/step\n",
      "Tweet: The severity of the censorship and the degree to which Brazil’s own laws are being broken, to the detriment of their own people, is the worst of any country in the world in which this platform operates.\n",
      "Sarcasm prediction: [4.7681488e-06]\n",
      "Positivity prediction: [0.19872558]\n",
      "No sarcasm detected!\n",
      "Negative tweet!\n"
     ]
    }
   ],
   "source": [
    "TWEET_URL = 'https://twitter.com/elonmusk/status/1778434736454553625'\n",
    "\n",
    "tweet = get_tweet(TWEET_URL)\n",
    "\n",
    "sarcasm_prediction = predict_sarcasm(tweet)\n",
    "positivity_prediction = predict_positivity(tweet)\n",
    "\n",
    "print('Tweet:', tweet)\n",
    "print('Sarcasm prediction:', sarcasm_prediction[0])\n",
    "print('Positivity prediction:', positivity_prediction[0])\n",
    "\n",
    "if sarcasm_prediction[0] > 0.5:\n",
    "    print('Sarcasm detected!')\n",
    "else:\n",
    "    print('No sarcasm detected!')\n",
    "    \n",
    "if positivity_prediction[0] > 0.5:\n",
    "    print('Positive tweet!')\n",
    "else:\n",
    "    print('Negative tweet!')\n",
    "    \n",
    "    "
   ]
  },
  {
   "cell_type": "code",
   "execution_count": null,
   "metadata": {},
   "outputs": [],
   "source": []
  },
  {
   "cell_type": "code",
   "execution_count": null,
   "metadata": {},
   "outputs": [],
   "source": []
  }
 ],
 "metadata": {
  "kernelspec": {
   "display_name": "Python 3",
   "language": "python",
   "name": "python3"
  },
  "language_info": {
   "codemirror_mode": {
    "name": "ipython",
    "version": 3
   },
   "file_extension": ".py",
   "mimetype": "text/x-python",
   "name": "python",
   "nbconvert_exporter": "python",
   "pygments_lexer": "ipython3",
   "version": "3.11.1"
  }
 },
 "nbformat": 4,
 "nbformat_minor": 2
}
