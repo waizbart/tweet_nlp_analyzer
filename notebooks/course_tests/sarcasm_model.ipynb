{
  "cells": [
    {
      "cell_type": "markdown",
      "metadata": {
        "id": "aWIM6gplHqfx"
      },
      "source": [
        "## Download the dataset"
      ]
    },
    {
      "cell_type": "code",
      "execution_count": 1,
      "metadata": {
        "id": "BQVuQrZNkPn9"
      },
      "outputs": [
        {
          "data": {
            "text/plain": [
              "'sarcasm (1).json'"
            ]
          },
          "execution_count": 1,
          "metadata": {},
          "output_type": "execute_result"
        }
      ],
      "source": [
        "import wget\n",
        "\n",
        "wget.download(\"https://storage.googleapis.com/tensorflow-1-public/course3/sarcasm.json\", \"sarcasm.json\")"
      ]
    },
    {
      "cell_type": "code",
      "execution_count": 2,
      "metadata": {
        "id": "oaLaaqhNkUPd"
      },
      "outputs": [
        {
          "name": "stdout",
          "output_type": "stream",
          "text": [
            "mom starting to fear son's web series closest thing she will have to grandchild\n",
            "1\n"
          ]
        }
      ],
      "source": [
        "import json\n",
        "\n",
        "# Load the JSON file\n",
        "with open(\"./sarcasm.json\", 'r') as f:\n",
        "    datastore = json.load(f)\n",
        "\n",
        "# Initialize the lists\n",
        "sentences = []\n",
        "labels = []\n",
        "\n",
        "# Collect sentences and labels into the lists\n",
        "for item in datastore:\n",
        "    sentences.append(item['headline'])\n",
        "    labels.append(item['is_sarcastic'])\n",
        "    \n",
        "print(sentences[2])\n",
        "print(labels[2])"
      ]
    },
    {
      "cell_type": "markdown",
      "metadata": {
        "id": "kw1I6oNSfCxa"
      },
      "source": [
        "## Hyperparameters"
      ]
    },
    {
      "cell_type": "code",
      "execution_count": 3,
      "metadata": {
        "id": "wpF4x5olfHX-"
      },
      "outputs": [],
      "source": [
        "# Number of examples to use for training\n",
        "training_size = 20000\n",
        "\n",
        "# Vocabulary size of the tokenizer\n",
        "vocab_size = 1000\n",
        "\n",
        "# Maximum length of the padded sequences\n",
        "max_length = 16\n",
        "\n",
        "# Output dimensions of the Embedding layer\n",
        "embedding_dim = 16"
      ]
    },
    {
      "cell_type": "markdown",
      "metadata": {
        "id": "dHibcDI0H5Zj"
      },
      "source": [
        "## Split the dataset"
      ]
    },
    {
      "cell_type": "code",
      "execution_count": 4,
      "metadata": {
        "id": "S1sD-7v0kYWk"
      },
      "outputs": [],
      "source": [
        "# Split the sentences\n",
        "training_sentences = sentences[0:training_size]\n",
        "testing_sentences = sentences[training_size:]\n",
        "\n",
        "# Split the labels\n",
        "training_labels = labels[0:training_size]\n",
        "testing_labels = labels[training_size:]"
      ]
    },
    {
      "cell_type": "markdown",
      "metadata": {
        "id": "qciTzNR7IHzJ"
      },
      "source": [
        "## Preprocessing the train and test sets"
      ]
    },
    {
      "cell_type": "code",
      "execution_count": 5,
      "metadata": {
        "id": "3u8UB0MCkZ5N"
      },
      "outputs": [
        {
          "name": "stdout",
          "output_type": "stream",
          "text": [
            "WARNING:tensorflow:From c:\\Users\\guilh\\AppData\\Local\\Programs\\Python\\Python311\\Lib\\site-packages\\keras\\src\\losses.py:2976: The name tf.losses.sparse_softmax_cross_entropy is deprecated. Please use tf.compat.v1.losses.sparse_softmax_cross_entropy instead.\n",
            "\n"
          ]
        }
      ],
      "source": [
        "import numpy as np\n",
        "from tensorflow.keras.preprocessing.text import Tokenizer\n",
        "from tensorflow.keras.preprocessing.sequence import pad_sequences\n",
        "\n",
        "# Parameters for padding and OOV tokens\n",
        "trunc_type='post'\n",
        "padding_type='post'\n",
        "oov_tok = \"<OOV>\"\n",
        "\n",
        "# Initialize the Tokenizer class\n",
        "tokenizer = Tokenizer(num_words=vocab_size, oov_token=oov_tok)\n",
        "\n",
        "# Generate the word index dictionary\n",
        "tokenizer.fit_on_texts(training_sentences)\n",
        "word_index = tokenizer.word_index\n",
        "\n",
        "# Generate and pad the training sequences\n",
        "training_sequences = tokenizer.texts_to_sequences(training_sentences)\n",
        "training_padded = pad_sequences(training_sequences, maxlen=max_length, padding=padding_type, truncating=trunc_type)\n",
        "\n",
        "# Generate and pad the testing sequences\n",
        "testing_sequences = tokenizer.texts_to_sequences(testing_sentences)\n",
        "testing_padded = pad_sequences(testing_sequences, maxlen=max_length, padding=padding_type, truncating=trunc_type)\n",
        "\n",
        "# Convert the labels lists into numpy arrays\n",
        "training_labels = np.array(training_labels)\n",
        "testing_labels = np.array(testing_labels)"
      ]
    },
    {
      "cell_type": "markdown",
      "metadata": {
        "id": "AMF4afx2IdHo"
      },
      "source": [
        "## Build and Compile the Model"
      ]
    },
    {
      "cell_type": "code",
      "execution_count": 6,
      "metadata": {
        "id": "7KDCvSc0kFOz"
      },
      "outputs": [
        {
          "name": "stdout",
          "output_type": "stream",
          "text": [
            "WARNING:tensorflow:From c:\\Users\\guilh\\AppData\\Local\\Programs\\Python\\Python311\\Lib\\site-packages\\keras\\src\\backend.py:873: The name tf.get_default_graph is deprecated. Please use tf.compat.v1.get_default_graph instead.\n",
            "\n",
            "shape of sample_array = (1, 3, 2)\n",
            "sample array: [[[10  2]\n",
            "  [ 1  3]\n",
            "  [ 1  1]]]\n",
            "output shape of gap1d_layer: (1, 2)\n",
            "output array of gap1d_layer: [[4 2]]\n"
          ]
        }
      ],
      "source": [
        "import tensorflow as tf\n",
        "\n",
        "# Initialize a GlobalAveragePooling1D (GAP1D) layer\n",
        "gap1d_layer = tf.keras.layers.GlobalAveragePooling1D()\n",
        "\n",
        "# Define sample array\n",
        "sample_array = np.array([[[10,2],[1,3],[1,1]]])\n",
        "\n",
        "# Print shape and contents of sample array\n",
        "print(f'shape of sample_array = {sample_array.shape}')\n",
        "print(f'sample array: {sample_array}')\n",
        "\n",
        "# Pass the sample array to the GAP1D layer\n",
        "output = gap1d_layer(sample_array)\n",
        "\n",
        "# Print shape and contents of the GAP1D output array\n",
        "print(f'output shape of gap1d_layer: {output.shape}')\n",
        "print(f'output array of gap1d_layer: {output.numpy()}')"
      ]
    },
    {
      "cell_type": "code",
      "execution_count": 7,
      "metadata": {
        "id": "FufaT4vlkiDE"
      },
      "outputs": [
        {
          "name": "stdout",
          "output_type": "stream",
          "text": [
            "Model: \"sequential\"\n",
            "_________________________________________________________________\n",
            " Layer (type)                Output Shape              Param #   \n",
            "=================================================================\n",
            " embedding (Embedding)       (None, 16, 16)            16000     \n",
            "                                                                 \n",
            " global_average_pooling1d_1  (None, 16)                0         \n",
            "  (GlobalAveragePooling1D)                                       \n",
            "                                                                 \n",
            " dense (Dense)               (None, 24)                408       \n",
            "                                                                 \n",
            " dense_1 (Dense)             (None, 1)                 25        \n",
            "                                                                 \n",
            "=================================================================\n",
            "Total params: 16433 (64.19 KB)\n",
            "Trainable params: 16433 (64.19 KB)\n",
            "Non-trainable params: 0 (0.00 Byte)\n",
            "_________________________________________________________________\n"
          ]
        }
      ],
      "source": [
        "# Build the model\n",
        "model = tf.keras.Sequential([\n",
        "    tf.keras.layers.Embedding(vocab_size, embedding_dim, input_length=max_length),\n",
        "    tf.keras.layers.GlobalAveragePooling1D(),\n",
        "    tf.keras.layers.Dense(24, activation='relu'),\n",
        "    tf.keras.layers.Dense(1, activation='sigmoid')\n",
        "])\n",
        "\n",
        "# Print the model summary\n",
        "model.summary()"
      ]
    },
    {
      "cell_type": "code",
      "execution_count": 8,
      "metadata": {
        "id": "XfDt1hmYkiys"
      },
      "outputs": [
        {
          "name": "stdout",
          "output_type": "stream",
          "text": [
            "WARNING:tensorflow:From c:\\Users\\guilh\\AppData\\Local\\Programs\\Python\\Python311\\Lib\\site-packages\\keras\\src\\optimizers\\__init__.py:309: The name tf.train.Optimizer is deprecated. Please use tf.compat.v1.train.Optimizer instead.\n",
            "\n"
          ]
        }
      ],
      "source": [
        "# Compile the model\n",
        "model.compile(loss='binary_crossentropy',optimizer='adam',metrics=['accuracy'])"
      ]
    },
    {
      "cell_type": "markdown",
      "metadata": {
        "id": "Axtd-WQAJIUK"
      },
      "source": [
        "## Train the Model"
      ]
    },
    {
      "cell_type": "code",
      "execution_count": 9,
      "metadata": {
        "id": "2DTKQFf1kkyc"
      },
      "outputs": [
        {
          "name": "stdout",
          "output_type": "stream",
          "text": [
            "Epoch 1/30\n",
            "WARNING:tensorflow:From c:\\Users\\guilh\\AppData\\Local\\Programs\\Python\\Python311\\Lib\\site-packages\\keras\\src\\utils\\tf_utils.py:492: The name tf.ragged.RaggedTensorValue is deprecated. Please use tf.compat.v1.ragged.RaggedTensorValue instead.\n",
            "\n",
            "WARNING:tensorflow:From c:\\Users\\guilh\\AppData\\Local\\Programs\\Python\\Python311\\Lib\\site-packages\\keras\\src\\engine\\base_layer_utils.py:384: The name tf.executing_eagerly_outside_functions is deprecated. Please use tf.compat.v1.executing_eagerly_outside_functions instead.\n",
            "\n",
            "625/625 - 2s - loss: 0.5257 - accuracy: 0.7312 - val_loss: 0.4105 - val_accuracy: 0.8159 - 2s/epoch - 3ms/step\n",
            "Epoch 2/30\n",
            "625/625 - 1s - loss: 0.3788 - accuracy: 0.8279 - val_loss: 0.3972 - val_accuracy: 0.8168 - 578ms/epoch - 924us/step\n",
            "Epoch 3/30\n",
            "625/625 - 1s - loss: 0.3631 - accuracy: 0.8353 - val_loss: 0.4006 - val_accuracy: 0.8158 - 603ms/epoch - 965us/step\n",
            "Epoch 4/30\n",
            "625/625 - 1s - loss: 0.3582 - accuracy: 0.8382 - val_loss: 0.4016 - val_accuracy: 0.8149 - 563ms/epoch - 901us/step\n",
            "Epoch 5/30\n",
            "625/625 - 1s - loss: 0.3547 - accuracy: 0.8382 - val_loss: 0.4078 - val_accuracy: 0.8114 - 581ms/epoch - 930us/step\n",
            "Epoch 6/30\n",
            "625/625 - 1s - loss: 0.3544 - accuracy: 0.8382 - val_loss: 0.4040 - val_accuracy: 0.8149 - 577ms/epoch - 923us/step\n",
            "Epoch 7/30\n",
            "625/625 - 1s - loss: 0.3523 - accuracy: 0.8410 - val_loss: 0.4044 - val_accuracy: 0.8128 - 574ms/epoch - 919us/step\n",
            "Epoch 8/30\n",
            "625/625 - 1s - loss: 0.3519 - accuracy: 0.8406 - val_loss: 0.4088 - val_accuracy: 0.8131 - 578ms/epoch - 925us/step\n",
            "Epoch 9/30\n",
            "625/625 - 1s - loss: 0.3514 - accuracy: 0.8395 - val_loss: 0.4073 - val_accuracy: 0.8141 - 599ms/epoch - 959us/step\n",
            "Epoch 10/30\n",
            "625/625 - 1s - loss: 0.3500 - accuracy: 0.8421 - val_loss: 0.4077 - val_accuracy: 0.8134 - 651ms/epoch - 1ms/step\n",
            "Epoch 11/30\n",
            "625/625 - 1s - loss: 0.3494 - accuracy: 0.8421 - val_loss: 0.4059 - val_accuracy: 0.8098 - 599ms/epoch - 958us/step\n",
            "Epoch 12/30\n",
            "625/625 - 1s - loss: 0.3486 - accuracy: 0.8425 - val_loss: 0.4105 - val_accuracy: 0.8117 - 587ms/epoch - 939us/step\n",
            "Epoch 13/30\n",
            "625/625 - 1s - loss: 0.3461 - accuracy: 0.8424 - val_loss: 0.4021 - val_accuracy: 0.8126 - 594ms/epoch - 950us/step\n",
            "Epoch 14/30\n",
            "625/625 - 1s - loss: 0.3437 - accuracy: 0.8446 - val_loss: 0.4022 - val_accuracy: 0.8147 - 570ms/epoch - 913us/step\n",
            "Epoch 15/30\n",
            "625/625 - 1s - loss: 0.3405 - accuracy: 0.8471 - val_loss: 0.3987 - val_accuracy: 0.8155 - 567ms/epoch - 907us/step\n",
            "Epoch 16/30\n",
            "625/625 - 1s - loss: 0.3373 - accuracy: 0.8479 - val_loss: 0.3956 - val_accuracy: 0.8186 - 574ms/epoch - 918us/step\n",
            "Epoch 17/30\n",
            "625/625 - 1s - loss: 0.3336 - accuracy: 0.8490 - val_loss: 0.3953 - val_accuracy: 0.8216 - 555ms/epoch - 887us/step\n",
            "Epoch 18/30\n",
            "625/625 - 1s - loss: 0.3309 - accuracy: 0.8508 - val_loss: 0.3962 - val_accuracy: 0.8198 - 563ms/epoch - 901us/step\n",
            "Epoch 19/30\n",
            "625/625 - 1s - loss: 0.3280 - accuracy: 0.8536 - val_loss: 0.3962 - val_accuracy: 0.8216 - 559ms/epoch - 894us/step\n",
            "Epoch 20/30\n",
            "625/625 - 1s - loss: 0.3253 - accuracy: 0.8533 - val_loss: 0.3988 - val_accuracy: 0.8199 - 564ms/epoch - 903us/step\n",
            "Epoch 21/30\n",
            "625/625 - 1s - loss: 0.3227 - accuracy: 0.8561 - val_loss: 0.3959 - val_accuracy: 0.8192 - 568ms/epoch - 909us/step\n",
            "Epoch 22/30\n",
            "625/625 - 1s - loss: 0.3209 - accuracy: 0.8579 - val_loss: 0.3973 - val_accuracy: 0.8217 - 558ms/epoch - 892us/step\n",
            "Epoch 23/30\n",
            "625/625 - 1s - loss: 0.3184 - accuracy: 0.8594 - val_loss: 0.3977 - val_accuracy: 0.8210 - 562ms/epoch - 899us/step\n",
            "Epoch 24/30\n",
            "625/625 - 1s - loss: 0.3160 - accuracy: 0.8607 - val_loss: 0.4009 - val_accuracy: 0.8174 - 632ms/epoch - 1ms/step\n",
            "Epoch 25/30\n",
            "625/625 - 1s - loss: 0.3142 - accuracy: 0.8608 - val_loss: 0.4020 - val_accuracy: 0.8182 - 624ms/epoch - 998us/step\n",
            "Epoch 26/30\n",
            "625/625 - 1s - loss: 0.3120 - accuracy: 0.8626 - val_loss: 0.4035 - val_accuracy: 0.8173 - 596ms/epoch - 953us/step\n",
            "Epoch 27/30\n",
            "625/625 - 1s - loss: 0.3107 - accuracy: 0.8624 - val_loss: 0.4044 - val_accuracy: 0.8176 - 611ms/epoch - 978us/step\n",
            "Epoch 28/30\n",
            "625/625 - 1s - loss: 0.3089 - accuracy: 0.8651 - val_loss: 0.4075 - val_accuracy: 0.8155 - 590ms/epoch - 944us/step\n",
            "Epoch 29/30\n",
            "625/625 - 1s - loss: 0.3077 - accuracy: 0.8651 - val_loss: 0.4073 - val_accuracy: 0.8174 - 582ms/epoch - 931us/step\n",
            "Epoch 30/30\n",
            "625/625 - 1s - loss: 0.3067 - accuracy: 0.8650 - val_loss: 0.4094 - val_accuracy: 0.8177 - 650ms/epoch - 1ms/step\n"
          ]
        }
      ],
      "source": [
        "num_epochs = 30\n",
        "\n",
        "# Train the model\n",
        "history = model.fit(training_padded, training_labels, epochs=num_epochs, validation_data=(testing_padded, testing_labels), verbose=2)"
      ]
    },
    {
      "cell_type": "markdown",
      "metadata": {
        "id": "L_bWhGOSJLLm"
      },
      "source": [
        "## Visualize the Results"
      ]
    },
    {
      "cell_type": "code",
      "execution_count": 10,
      "metadata": {
        "id": "2HYfBKXjkmU8"
      },
      "outputs": [
        {
          "data": {
            "image/png": "[encoded data removed]",
            "text/plain": [
              "<Figure size 640x480 with 1 Axes>"
            ]
          },
          "metadata": {},
          "output_type": "display_data"
        },
        {
          "data": {
            "image/png": "[encoded data removed]",
            "text/plain": [
              "<Figure size 640x480 with 1 Axes>"
            ]
          },
          "metadata": {},
          "output_type": "display_data"
        }
      ],
      "source": [
        "import matplotlib.pyplot as plt\n",
        "\n",
        "# Plot utility\n",
        "def plot_graphs(history, string):\n",
        "  plt.plot(history.history[string])\n",
        "  plt.plot(history.history['val_'+string])\n",
        "  plt.xlabel(\"Epochs\")\n",
        "  plt.ylabel(string)\n",
        "  plt.legend([string, 'val_'+string])\n",
        "  plt.show()\n",
        "\n",
        "# Plot the accuracy and loss\n",
        "plot_graphs(history, \"accuracy\")\n",
        "plot_graphs(history, \"loss\")"
      ]
    },
    {
      "cell_type": "markdown",
      "metadata": {
        "id": "JN6kaxxcJQgd"
      },
      "source": [
        "## Visualize Word Embeddings"
      ]
    },
    {
      "cell_type": "code",
      "execution_count": 11,
      "metadata": {
        "id": "c9MqihtEkzQ9"
      },
      "outputs": [
        {
          "name": "stdout",
          "output_type": "stream",
          "text": [
            "(1000, 16)\n"
          ]
        }
      ],
      "source": [
        "# Get the index-word dictionary\n",
        "reverse_word_index = tokenizer.index_word\n",
        "\n",
        "# Get the embedding layer from the model (i.e. first layer)\n",
        "embedding_layer = model.layers[0]\n",
        "\n",
        "# Get the weights of the embedding layer\n",
        "embedding_weights = embedding_layer.get_weights()[0]\n",
        "\n",
        "# Print the shape. Expected is (vocab_size, embedding_dim)\n",
        "print(embedding_weights.shape)\n"
      ]
    },
    {
      "cell_type": "code",
      "execution_count": 12,
      "metadata": {
        "id": "LoBXVffknldU"
      },
      "outputs": [],
      "source": [
        "import io\n",
        "\n",
        "# Open writeable files\n",
        "out_v = io.open('tsv/sarcasm/vecs.tsv', 'w', encoding='utf-8')\n",
        "out_m = io.open('tsv/sarcasm/meta.tsv', 'w', encoding='utf-8')\n",
        "\n",
        "# Initialize the loop. Start counting at `1` because `0` is just for the padding\n",
        "for word_num in range(1, vocab_size):\n",
        "\n",
        "  # Get the word associated at the current index\n",
        "  word_name = reverse_word_index[word_num]\n",
        "\n",
        "  # Get the embedding weights associated with the current index\n",
        "  word_embedding = embedding_weights[word_num]\n",
        "\n",
        "  # Write the word name\n",
        "  out_m.write(word_name + \"\\n\")\n",
        "\n",
        "  # Write the word embedding\n",
        "  out_v.write('\\t'.join([str(x) for x in word_embedding]) + \"\\n\")\n",
        "\n",
        "# Close the files\n",
        "out_v.close()\n",
        "out_m.close()"
      ]
    },
    {
      "cell_type": "markdown",
      "metadata": {},
      "source": [
        "## Testing "
      ]
    },
    {
      "cell_type": "code",
      "execution_count": 13,
      "metadata": {},
      "outputs": [
        {
          "name": "stdout",
          "output_type": "stream",
          "text": [
            "1/1 [==============================] - 0s 70ms/step\n",
            "[[0.0996836 ]\n",
            " [0.00196201]]\n"
          ]
        }
      ],
      "source": [
        "sarcasm_test = [\"I like long walks, especially when they are taken by people who annoy me\", \"I am on a seafood diet. I see food and I eat it.\"]\n",
        "# Convert the test text into sequences\n",
        "sequences = tokenizer.texts_to_sequences(sarcasm_test)\n",
        "\n",
        "# Pad the sequences\n",
        "padded = pad_sequences(sequences, maxlen=max_length, padding=padding_type, truncating=trunc_type)\n",
        "\n",
        "# Get the prediction\n",
        "prediction = model.predict(padded)\n",
        "\n",
        "print(prediction)"
      ]
    },
    {
      "cell_type": "code",
      "execution_count": 14,
      "metadata": {},
      "outputs": [
        {
          "name": "stderr",
          "output_type": "stream",
          "text": [
            "c:\\Users\\guilh\\AppData\\Local\\Programs\\Python\\Python311\\Lib\\site-packages\\keras\\src\\engine\\training.py:3103: UserWarning: You are saving your model as an HDF5 file via `model.save()`. This file format is considered legacy. We recommend using instead the native Keras format, e.g. `model.save('my_model.keras')`.\n",
            "  saving_api.save_model(\n"
          ]
        }
      ],
      "source": [
        "model.save('../models/sarcasm/v1.h5')"
      ]
    }
  ],
  "metadata": {
    "colab": {
      "name": "C3_W2_Lab_2_sarcasm_classifier.ipynb",
      "private_outputs": true,
      "provenance": []
    },
    "kernelspec": {
      "display_name": "Python 3",
      "language": "python",
      "name": "python3"
    },
    "language_info": {
      "codemirror_mode": {
        "name": "ipython",
        "version": 3
      },
      "file_extension": ".py",
      "mimetype": "text/x-python",
      "name": "python",
      "nbconvert_exporter": "python",
      "pygments_lexer": "ipython3",
      "version": "3.11.1"
    }
  },
  "nbformat": 4,
  "nbformat_minor": 0
}
